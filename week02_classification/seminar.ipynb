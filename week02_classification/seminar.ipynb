{
 "cells": [
  {
   "cell_type": "markdown",
   "metadata": {},
   "source": [
    "# Large scale text analysis with deep learning (3 points)\n",
    "\n",
    "Today we're gonna apply the newly learned tools for the task of predicting job salary.\n",
    "\n",
    "<img src=\"https://kaggle2.blob.core.windows.net/competitions/kaggle/3342/media/salary%20prediction%20engine%20v2.png\" width=400px>\n",
    "\n",
    "_Special thanks to [Oleg Vasilev](https://github.com/Omrigan/) for the core assignment idea._"
   ]
  },
  {
   "cell_type": "code",
   "execution_count": 1,
   "metadata": {},
   "outputs": [],
   "source": [
    "import numpy as np\n",
    "import pandas as pd\n",
    "import matplotlib.pyplot as plt\n",
    "%matplotlib inline"
   ]
  },
  {
   "cell_type": "markdown",
   "metadata": {},
   "source": [
    "### About the challenge\n",
    "For starters, let's download and unpack the data from [here](https://www.dropbox.com/s/5msc5ix7ndyba10/Train_rev1.csv.tar.gz?dl=0). \n",
    "\n",
    "You can also get it from [yadisk url](https://yadi.sk/d/vVEOWPFY3NruT7) the competition [page](https://www.kaggle.com/c/job-salary-prediction/data) (pick `Train_rev1.*`)."
   ]
  },
  {
   "cell_type": "code",
   "execution_count": 2,
   "metadata": {},
   "outputs": [
    {
     "name": "stdout",
     "output_type": "stream",
     "text": [
      "Reading package lists... Done\n",
      "Building dependency tree       \n",
      "Reading state information... Done\n",
      "curl is already the newest version (7.47.0-1ubuntu2.13).\n",
      "0 upgraded, 0 newly installed, 0 to remove and 5 not upgraded.\n",
      "  % Total    % Received % Xferd  Average Speed   Time    Time     Time  Current\n",
      "                                 Dload  Upload   Total   Spent    Left  Speed\n",
      "  0     0    0     0    0     0      0      0 --:--:--  0:00:01 --:--:--     0\n",
      "  0     0    0     0    0     0      0      0 --:--:--  0:00:01 --:--:--     0\n",
      "100  119M  100  119M    0     0  2562k      0  0:00:47  0:00:47 --:--:-- 3299k9M    0     0  1991k      0  0:01:01  0:00:15  0:00:46 2198k  89  107M    0     0  2505k      0  0:00:48  0:00:43  0:00:05 3180k\n",
      "Train_rev1.csv\n"
     ]
    },
    {
     "data": {
      "text/plain": [
       "(244768, 12)"
      ]
     },
     "execution_count": 2,
     "metadata": {},
     "output_type": "execute_result"
    }
   ],
   "source": [
    "!apt install curl\n",
    "!curl -L https://www.dropbox.com/s/5msc5ix7ndyba10/Train_rev1.csv.tar.gz?dl=1 -o Train_rev1.csv.tar.gz\n",
    "!tar -xvzf ./Train_rev1.csv.tar.gz\n",
    "data = pd.read_csv(\"./Train_rev1.csv\", index_col=None)\n",
    "data.shape"
   ]
  },
  {
   "cell_type": "markdown",
   "metadata": {},
   "source": [
    "One problem with salary prediction is that it's oddly distributed: there are many people who are paid standard salaries and a few that get tons o money. The distribution is fat-tailed on the right side, which is inconvenient for MSE minimization.\n",
    "\n",
    "There are several techniques to combat this: using a different loss function, predicting log-target instead of raw target or even replacing targets with their percentiles among all salaries in the training set. We gonna use logarithm for now.\n",
    "\n",
    "_You can read more [in the official description](https://www.kaggle.com/c/job-salary-prediction#description)._"
   ]
  },
  {
   "cell_type": "code",
   "execution_count": 3,
   "metadata": {},
   "outputs": [
    {
     "data": {
      "image/png": "[encoded data removed]",
      "text/plain": [
       "<Figure size 576x288 with 2 Axes>"
      ]
     },
     "metadata": {
      "needs_background": "light"
     },
     "output_type": "display_data"
    }
   ],
   "source": [
    "data['Log1pSalary'] = np.log1p(data['SalaryNormalized']).astype('float32')\n",
    "\n",
    "plt.figure(figsize=[8, 4])\n",
    "plt.subplot(1, 2, 1)\n",
    "plt.hist(data[\"SalaryNormalized\"], bins=20);\n",
    "\n",
    "plt.subplot(1, 2, 2)\n",
    "plt.hist(data['Log1pSalary'], bins=20);"
   ]
  },
  {
   "cell_type": "markdown",
   "metadata": {},
   "source": [
    "Our task is to predict one number, __Log1pSalary__.\n",
    "\n",
    "To do so, our model can access a number of features:\n",
    "* Free text: __`Title`__ and  __`FullDescription`__\n",
    "* Categorical: __`Category`__, __`Company`__, __`LocationNormalized`__, __`ContractType`__, and __`ContractTime`__."
   ]
  },
  {
   "cell_type": "code",
   "execution_count": 4,
   "metadata": {},
   "outputs": [
    {
     "data": {
      "text/html": [
       "<div>\n",
       "<style scoped>\n",
       "    .dataframe tbody tr th:only-of-type {\n",
       "        vertical-align: middle;\n",
       "    }\n",
       "\n",
       "    .dataframe tbody tr th {\n",
       "        vertical-align: top;\n",
       "    }\n",
       "\n",
       "    .dataframe thead th {\n",
       "        text-align: right;\n",
       "    }\n",
       "</style>\n",
       "<table border=\"1\" class=\"dataframe\">\n",
       "  <thead>\n",
       "    <tr style=\"text-align: right;\">\n",
       "      <th></th>\n",
       "      <th>Id</th>\n",
       "      <th>Title</th>\n",
       "      <th>FullDescription</th>\n",
       "      <th>LocationRaw</th>\n",
       "      <th>LocationNormalized</th>\n",
       "      <th>ContractType</th>\n",
       "      <th>ContractTime</th>\n",
       "      <th>Company</th>\n",
       "      <th>Category</th>\n",
       "      <th>SalaryRaw</th>\n",
       "      <th>SalaryNormalized</th>\n",
       "      <th>SourceName</th>\n",
       "      <th>Log1pSalary</th>\n",
       "    </tr>\n",
       "  </thead>\n",
       "  <tbody>\n",
       "    <tr>\n",
       "      <th>1588</th>\n",
       "      <td>48271669</td>\n",
       "      <td>NaN</td>\n",
       "      <td>Quality Improvement Manager North West England...</td>\n",
       "      <td>Liverpool, Merseyside</td>\n",
       "      <td>Liverpool</td>\n",
       "      <td>full_time</td>\n",
       "      <td>NaN</td>\n",
       "      <td>NaN</td>\n",
       "      <td>Healthcare &amp; Nursing Jobs</td>\n",
       "      <td>40,000 to 45,000 per year</td>\n",
       "      <td>42500</td>\n",
       "      <td>careworx.co.uk</td>\n",
       "      <td>10.657283</td>\n",
       "    </tr>\n",
       "  </tbody>\n",
       "</table>\n",
       "</div>"
      ],
      "text/plain": [
       "            Id Title                                    FullDescription  \\\n",
       "1588  48271669   NaN  Quality Improvement Manager North West England...   \n",
       "\n",
       "                LocationRaw LocationNormalized ContractType ContractTime  \\\n",
       "1588  Liverpool, Merseyside          Liverpool    full_time          NaN   \n",
       "\n",
       "     Company                   Category                  SalaryRaw  \\\n",
       "1588     NaN  Healthcare & Nursing Jobs  40,000 to 45,000 per year   \n",
       "\n",
       "      SalaryNormalized      SourceName  Log1pSalary  \n",
       "1588             42500  careworx.co.uk    10.657283  "
      ]
     },
     "execution_count": 4,
     "metadata": {},
     "output_type": "execute_result"
    }
   ],
   "source": [
    "data.loc[data['Title'].isna()]"
   ]
  },
  {
   "cell_type": "code",
   "execution_count": 5,
   "metadata": {},
   "outputs": [
    {
     "data": {
      "text/html": [
       "<div>\n",
       "<style scoped>\n",
       "    .dataframe tbody tr th:only-of-type {\n",
       "        vertical-align: middle;\n",
       "    }\n",
       "\n",
       "    .dataframe tbody tr th {\n",
       "        vertical-align: top;\n",
       "    }\n",
       "\n",
       "    .dataframe thead th {\n",
       "        text-align: right;\n",
       "    }\n",
       "</style>\n",
       "<table border=\"1\" class=\"dataframe\">\n",
       "  <thead>\n",
       "    <tr style=\"text-align: right;\">\n",
       "      <th></th>\n",
       "      <th>Id</th>\n",
       "      <th>Title</th>\n",
       "      <th>FullDescription</th>\n",
       "      <th>LocationRaw</th>\n",
       "      <th>LocationNormalized</th>\n",
       "      <th>ContractType</th>\n",
       "      <th>ContractTime</th>\n",
       "      <th>Company</th>\n",
       "      <th>Category</th>\n",
       "      <th>SalaryRaw</th>\n",
       "      <th>SalaryNormalized</th>\n",
       "      <th>SourceName</th>\n",
       "      <th>Log1pSalary</th>\n",
       "    </tr>\n",
       "  </thead>\n",
       "  <tbody>\n",
       "    <tr>\n",
       "      <th>229846</th>\n",
       "      <td>72450278</td>\n",
       "      <td>Programme Manager</td>\n",
       "      <td>Programme Manager  Research and Core Location ...</td>\n",
       "      <td>Leicestershire East Midlands</td>\n",
       "      <td>Leicestershire</td>\n",
       "      <td>NaN</td>\n",
       "      <td>permanent</td>\n",
       "      <td>ERS</td>\n",
       "      <td>Engineering Jobs</td>\n",
       "      <td>65k - 75k + benefits</td>\n",
       "      <td>70000</td>\n",
       "      <td>totaljobs.com</td>\n",
       "      <td>11.156265</td>\n",
       "    </tr>\n",
       "    <tr>\n",
       "      <th>52728</th>\n",
       "      <td>68671237</td>\n",
       "      <td>SAS Marketing Analysts x ****  Leeds  to ****k</td>\n",
       "      <td>Job Title: SAS Marketing Analysts Location: Le...</td>\n",
       "      <td>Leeds West Yorkshire Yorkshire</td>\n",
       "      <td>Leeds</td>\n",
       "      <td>NaN</td>\n",
       "      <td>permanent</td>\n",
       "      <td>Aspire Data Recruitment</td>\n",
       "      <td>Accounting &amp; Finance Jobs</td>\n",
       "      <td>0 to 35000 per annum - Bonus &amp; Benefits</td>\n",
       "      <td>17500</td>\n",
       "      <td>totaljobs.com</td>\n",
       "      <td>9.770013</td>\n",
       "    </tr>\n",
       "    <tr>\n",
       "      <th>61345</th>\n",
       "      <td>68695903</td>\n",
       "      <td>Senior Statistician  PhD  Edinburgh</td>\n",
       "      <td>Senior Statistician  Edinburgh  Lifesciences: ...</td>\n",
       "      <td>Edinburgh Midlothian Scotland</td>\n",
       "      <td>Edinburgh Technopole</td>\n",
       "      <td>NaN</td>\n",
       "      <td>permanent</td>\n",
       "      <td>Paramount Recruitment Med Comms, PR &amp; Advertising</td>\n",
       "      <td>IT Jobs</td>\n",
       "      <td>30000 - 45000 per annum + Benefits</td>\n",
       "      <td>37500</td>\n",
       "      <td>totaljobs.com</td>\n",
       "      <td>10.532123</td>\n",
       "    </tr>\n",
       "  </tbody>\n",
       "</table>\n",
       "</div>"
      ],
      "text/plain": [
       "              Id                                           Title  \\\n",
       "229846  72450278                               Programme Manager   \n",
       "52728   68671237  SAS Marketing Analysts x ****  Leeds  to ****k   \n",
       "61345   68695903             Senior Statistician  PhD  Edinburgh   \n",
       "\n",
       "                                          FullDescription  \\\n",
       "229846  Programme Manager  Research and Core Location ...   \n",
       "52728   Job Title: SAS Marketing Analysts Location: Le...   \n",
       "61345   Senior Statistician  Edinburgh  Lifesciences: ...   \n",
       "\n",
       "                           LocationRaw    LocationNormalized ContractType  \\\n",
       "229846    Leicestershire East Midlands        Leicestershire          NaN   \n",
       "52728   Leeds West Yorkshire Yorkshire                 Leeds          NaN   \n",
       "61345    Edinburgh Midlothian Scotland  Edinburgh Technopole          NaN   \n",
       "\n",
       "       ContractTime                                            Company  \\\n",
       "229846    permanent                                                ERS   \n",
       "52728     permanent                            Aspire Data Recruitment   \n",
       "61345     permanent  Paramount Recruitment Med Comms, PR & Advertising   \n",
       "\n",
       "                         Category                                SalaryRaw  \\\n",
       "229846           Engineering Jobs                     65k - 75k + benefits   \n",
       "52728   Accounting & Finance Jobs  0 to 35000 per annum - Bonus & Benefits   \n",
       "61345                     IT Jobs       30000 - 45000 per annum + Benefits   \n",
       "\n",
       "        SalaryNormalized     SourceName  Log1pSalary  \n",
       "229846             70000  totaljobs.com    11.156265  \n",
       "52728              17500  totaljobs.com     9.770013  \n",
       "61345              37500  totaljobs.com    10.532123  "
      ]
     },
     "execution_count": 5,
     "metadata": {},
     "output_type": "execute_result"
    }
   ],
   "source": [
    "text_columns = [\"Title\", \"FullDescription\"]\n",
    "categorical_columns = [\"Category\", \"Company\", \"LocationNormalized\", \"ContractType\", \"ContractTime\"]\n",
    "target_column = \"Log1pSalary\"\n",
    "\n",
    "data[text_columns] = data[text_columns].fillna('NaN')\n",
    "data[categorical_columns] = data[categorical_columns].fillna('NaN') # cast missing values to string \"NaN\"\n",
    "\n",
    "data.sample(3)"
   ]
  },
  {
   "cell_type": "markdown",
   "metadata": {},
   "source": [
    "### Preprocessing text data\n",
    "\n",
    "Just like last week, applying NLP to a problem begins from tokenization: splitting raw text into sequences of tokens (words, punctuation, etc).\n",
    "\n",
    "__Your task__ is to lowercase and tokenize all texts under `Title` and `FullDescription` columns. Store the tokenized data as a __space-separated__ string of tokens for performance reasons.\n",
    "\n",
    "It's okay to use nltk tokenizers. Assertions were designed for WordPunctTokenizer, slight deviations are okay."
   ]
  },
  {
   "cell_type": "code",
   "execution_count": 6,
   "metadata": {},
   "outputs": [
    {
     "name": "stdout",
     "output_type": "stream",
     "text": [
      "Raw text:\n",
      "2         Mathematical Modeller / Simulation Analyst / O...\n",
      "100002    A successful and high achieving specialist sch...\n",
      "200002    Web Designer  HTML, CSS, JavaScript, Photoshop...\n",
      "Name: FullDescription, dtype: object\n"
     ]
    }
   ],
   "source": [
    "print(\"Raw text:\")\n",
    "print(data[\"FullDescription\"][2::100000])"
   ]
  },
  {
   "cell_type": "code",
   "execution_count": 7,
   "metadata": {},
   "outputs": [
    {
     "name": "stdout",
     "output_type": "stream",
     "text": [
      "0\n",
      "Series([], Name: Title, dtype: object)\n",
      "0\n",
      "Series([], Name: FullDescription, dtype: object)\n"
     ]
    }
   ],
   "source": [
    "import nltk\n",
    "tokenizer = nltk.tokenize.WordPunctTokenizer()\n",
    "\n",
    "# see task above\n",
    "for column in ('Title', 'FullDescription'):\n",
    "    print(data[column].isna().sum())\n",
    "    print(data[column].loc[data[column].isna()])\n",
    "    data[column] = data[column].apply(lambda x: ' '.join(tokenizer.tokenize(x.lower())) if x is not np.nan else x)"
   ]
  },
  {
   "cell_type": "markdown",
   "metadata": {},
   "source": [
    "Now we can assume that our text is a space-separated list of tokens:"
   ]
  },
  {
   "cell_type": "code",
   "execution_count": 8,
   "metadata": {},
   "outputs": [
    {
     "name": "stdout",
     "output_type": "stream",
     "text": [
      "Tokenized:\n",
      "2         mathematical modeller / simulation analyst / o...\n",
      "100002    a successful and high achieving specialist sch...\n",
      "200002    web designer html , css , javascript , photosh...\n",
      "Name: FullDescription, dtype: object\n"
     ]
    }
   ],
   "source": [
    "print(\"Tokenized:\")\n",
    "print(data[\"FullDescription\"][2::100000])\n",
    "assert data[\"FullDescription\"][2][:50] == 'mathematical modeller / simulation analyst / opera'\n",
    "assert data[\"Title\"][54321] == 'international digital account manager ( german )'"
   ]
  },
  {
   "cell_type": "markdown",
   "metadata": {},
   "source": [
    "Not all words are equally useful. Some of them are typos or rare words that are only present a few times. \n",
    "\n",
    "Let's count how many times is each word present in the data so that we can build a \"white list\" of known words."
   ]
  },
  {
   "cell_type": "code",
   "execution_count": 9,
   "metadata": {},
   "outputs": [
    {
     "data": {
      "application/vnd.jupyter.widget-view+json": {
       "model_id": "b893d7da8ee449f783281b9577bbcdbe",
       "version_major": 2,
       "version_minor": 0
      },
      "text/plain": [
       "HBox(children=(IntProgress(value=1, bar_style='info', max=1), HTML(value='')))"
      ]
     },
     "metadata": {},
     "output_type": "display_data"
    },
    {
     "name": "stdout",
     "output_type": "stream",
     "text": [
      "\n"
     ]
    }
   ],
   "source": [
    "# Count how many times does each token occur in both \"Title\" and \"FullDescription\" in total\n",
    "# build a dictionary { token -> it's count }\n",
    "from collections import Counter\n",
    "from functools import reduce\n",
    "from tqdm import tqdm_notebook as tqdm\n",
    "\n",
    "token_counts = Counter()\n",
    "for row in tqdm(zip(data[['Title', 'FullDescription']].dropna().values)):\n",
    "    tokens = reduce(lambda x, y: x+y, map(lambda x: x.split(), row[0]))\n",
    "    token_counts.update(tokens)\n",
    "    \n",
    "# hint: you may or may not want to use collections.Counter"
   ]
  },
  {
   "cell_type": "code",
   "execution_count": 10,
   "metadata": {},
   "outputs": [
    {
     "name": "stdout",
     "output_type": "stream",
     "text": [
      "Total unique tokens : 202704\n",
      "('and', 2657388)\n",
      "('.', 2523216)\n",
      "(',', 2318606)\n",
      "('the', 2080994)\n",
      "('to', 2019884)\n",
      "...\n",
      "('fomhclnursing', 1)\n",
      "('nonasset', 1)\n",
      "('parttimetutorcardiff_job', 1)\n",
      "Correct!\n"
     ]
    }
   ],
   "source": [
    "print(\"Total unique tokens :\", len(token_counts))\n",
    "print('\\n'.join(map(str, token_counts.most_common(n=5))))\n",
    "print('...')\n",
    "print('\\n'.join(map(str, token_counts.most_common()[-3:])))\n",
    "\n",
    "assert token_counts.most_common(1)[0][1] in  range(2600000, 2700000)\n",
    "assert len(token_counts) in range(200000, 210000)\n",
    "print('Correct!')"
   ]
  },
  {
   "cell_type": "code",
   "execution_count": 11,
   "metadata": {},
   "outputs": [
    {
     "data": {
      "image/png": "[encoded data removed]",
      "text/plain": [
       "<Figure size 432x288 with 1 Axes>"
      ]
     },
     "metadata": {
      "needs_background": "light"
     },
     "output_type": "display_data"
    }
   ],
   "source": [
    "# Let's see how many words are there for each count\n",
    "plt.hist(list(token_counts.values()), range=[0, 10**4], bins=50, log=True)\n",
    "plt.xlabel(\"Word counts\");"
   ]
  },
  {
   "cell_type": "markdown",
   "metadata": {},
   "source": [
    "Now filter tokens a list of all tokens that occur at least 10 times."
   ]
  },
  {
   "cell_type": "code",
   "execution_count": 12,
   "metadata": {},
   "outputs": [],
   "source": [
    "min_count = 10\n",
    "\n",
    "# tokens from token_counts keys that had at least min_count occurrences throughout the dataset\n",
    "tokens = list(elem[0] for elem in filter(lambda x: x[1]>=min_count, token_counts.most_common()))"
   ]
  },
  {
   "cell_type": "code",
   "execution_count": 13,
   "metadata": {},
   "outputs": [
    {
     "name": "stdout",
     "output_type": "stream",
     "text": [
      "Vocabulary size: 34158\n",
      "Correct!\n"
     ]
    }
   ],
   "source": [
    "# Add a special tokens for unknown and empty words\n",
    "UNK, PAD = \"UNK\", \"PAD\"\n",
    "tokens = [UNK, PAD] + sorted(tokens)\n",
    "print(\"Vocabulary size:\", len(tokens))\n",
    "\n",
    "assert type(tokens) == list\n",
    "assert len(tokens) in range(32000, 35000)\n",
    "assert 'me' in tokens\n",
    "assert UNK in tokens\n",
    "print(\"Correct!\")"
   ]
  },
  {
   "cell_type": "markdown",
   "metadata": {},
   "source": [
    "Build an inverse token index: a dictionary from token(string) to it's index in `tokens` (int)"
   ]
  },
  {
   "cell_type": "code",
   "execution_count": 14,
   "metadata": {},
   "outputs": [],
   "source": [
    "token_to_id = dict(( (elem, i) for i, elem in enumerate(tokens) ))"
   ]
  },
  {
   "cell_type": "code",
   "execution_count": 15,
   "metadata": {},
   "outputs": [
    {
     "name": "stdout",
     "output_type": "stream",
     "text": [
      "Correct!\n"
     ]
    }
   ],
   "source": [
    "assert isinstance(token_to_id, dict)\n",
    "assert len(token_to_id) == len(tokens)\n",
    "for tok in tokens:\n",
    "    assert tokens[token_to_id[tok]] == tok\n",
    "\n",
    "print(\"Correct!\")"
   ]
  },
  {
   "cell_type": "markdown",
   "metadata": {},
   "source": [
    "And finally, let's use the vocabulary you've built to map text lines into neural network-digestible matrices."
   ]
  },
  {
   "cell_type": "code",
   "execution_count": 16,
   "metadata": {},
   "outputs": [],
   "source": [
    "UNK_IX, PAD_IX = map(token_to_id.get, [UNK, PAD])\n",
    "\n",
    "def as_matrix(sequences, max_len=None):\n",
    "    \"\"\" Convert a list of tokens into a matrix with padding \"\"\"\n",
    "    if isinstance(sequences[0], str):\n",
    "        sequences = list(map(str.split, sequences))\n",
    "        \n",
    "    max_len = min(max(map(len, sequences)), max_len or float('inf'))\n",
    "    \n",
    "    matrix = np.full((len(sequences), max_len), np.int32(PAD_IX))\n",
    "    for i, seq in enumerate(sequences):\n",
    "        row_ix = [token_to_id.get(word, UNK_IX) for word in seq[:max_len]]\n",
    "        matrix[i, :len(row_ix)] = row_ix\n",
    "    \n",
    "    return matrix"
   ]
  },
  {
   "cell_type": "code",
   "execution_count": 17,
   "metadata": {},
   "outputs": [
    {
     "name": "stdout",
     "output_type": "stream",
     "text": [
      "Lines:\n",
      "engineering systems analyst\n",
      "hr assistant\n",
      "senior ec & i engineer\n",
      "\n",
      "Matrix:\n",
      "[[10807 30161  2166     1     1]\n",
      " [15020  2844     1     1     1]\n",
      " [27645 10201    16 15215 10804]]\n"
     ]
    }
   ],
   "source": [
    "print(\"Lines:\")\n",
    "print('\\n'.join(data[\"Title\"][::100000].values), end='\\n\\n')\n",
    "print(\"Matrix:\")\n",
    "print(as_matrix(data[\"Title\"][::100000]))"
   ]
  },
  {
   "cell_type": "markdown",
   "metadata": {},
   "source": [
    "Now let's  encode the categirical data we have.\n",
    "\n",
    "As usual, we shall use one-hot encoding for simplicity. Kudos if you implement more advanced encodings: tf-idf, pseudo-time-series, etc."
   ]
  },
  {
   "cell_type": "code",
   "execution_count": 18,
   "metadata": {},
   "outputs": [
    {
     "data": {
      "text/plain": [
       "DictVectorizer(dtype=<class 'numpy.float32'>, separator='=', sort=True,\n",
       "               sparse=False)"
      ]
     },
     "execution_count": 18,
     "metadata": {},
     "output_type": "execute_result"
    }
   ],
   "source": [
    "from sklearn.feature_extraction import DictVectorizer\n",
    "\n",
    "# we only consider top-1k most frequent companies to minimize memory usage\n",
    "top_companies, top_counts = zip(*Counter(data['Company']).most_common(1000))\n",
    "recognized_companies = set(top_companies)\n",
    "data[\"Company\"] = data[\"Company\"].apply(lambda comp: comp if comp in recognized_companies else \"Other\")\n",
    "\n",
    "categorical_vectorizer = DictVectorizer(dtype=np.float32, sparse=False)\n",
    "categorical_vectorizer.fit(data[categorical_columns].apply(dict, axis=1))"
   ]
  },
  {
   "cell_type": "markdown",
   "metadata": {},
   "source": [
    "### The deep learning part\n",
    "\n",
    "Once we've learned to tokenize the data, let's design a machine learning experiment.\n",
    "\n",
    "As before, we won't focus too much on validation, opting for a simple train-test split.\n",
    "\n",
    "__To be completely rigorous,__ we've comitted a small crime here: we used the whole data for tokenization and vocabulary building. A more strict way would be to do that part on training set only. You may want to do that and measure the magnitude of changes."
   ]
  },
  {
   "cell_type": "code",
   "execution_count": 19,
   "metadata": {},
   "outputs": [
    {
     "name": "stdout",
     "output_type": "stream",
     "text": [
      "Train size =  195814\n",
      "Validation size =  48954\n"
     ]
    }
   ],
   "source": [
    "from sklearn.model_selection import train_test_split\n",
    "\n",
    "data_train, data_val = train_test_split(data, test_size=0.2, random_state=42)\n",
    "data_train.index = range(len(data_train))\n",
    "data_val.index = range(len(data_val))\n",
    "\n",
    "print(\"Train size = \", len(data_train))\n",
    "print(\"Validation size = \", len(data_val))"
   ]
  },
  {
   "cell_type": "code",
   "execution_count": null,
   "metadata": {},
   "outputs": [],
   "source": []
  },
  {
   "cell_type": "code",
   "execution_count": 20,
   "metadata": {},
   "outputs": [],
   "source": [
    "def make_batch(data, max_len=None, word_dropout=0):\n",
    "    \"\"\"\n",
    "    Creates a keras-friendly dict from the batch data.\n",
    "    :param word_dropout: replaces token index with UNK_IX with this probability\n",
    "    :returns: a dict with {'title' : int64[batch, title_max_len]\n",
    "    \"\"\"\n",
    "    batch = {}\n",
    "    batch[\"Title\"] = as_matrix(data[\"Title\"].values, max_len)\n",
    "    batch[\"FullDescription\"] = as_matrix(data[\"FullDescription\"].values, max_len)\n",
    "    batch['Categorical'] = categorical_vectorizer.transform(data[categorical_columns].apply(dict, axis=1))\n",
    "    \n",
    "    if word_dropout != 0:\n",
    "        batch[\"FullDescription\"] = apply_word_dropout(batch[\"FullDescription\"], 1. - word_dropout)\n",
    "    \n",
    "    if target_column in data.columns:\n",
    "        batch[target_column] = data[target_column].values\n",
    "    \n",
    "    return batch\n",
    "\n",
    "def apply_word_dropout(matrix, keep_prop, replace_with=UNK_IX, pad_ix=PAD_IX,):\n",
    "    # sample from 0 and 1 np.shape(matrix) values with probability keep_prob of being 0\n",
    "    dropout_mask = np.random.choice(2, np.shape(matrix), p=[keep_prop, 1 - keep_prop])\n",
    "    # check if some tokens we dropout are pad tokens\n",
    "    dropout_mask &= matrix != pad_ix\n",
    "    # return matrix with replaced tokens\n",
    "    return np.choose(dropout_mask, [matrix, np.full_like(matrix, replace_with)])"
   ]
  },
  {
   "cell_type": "code",
   "execution_count": 21,
   "metadata": {},
   "outputs": [
    {
     "data": {
      "text/plain": [
       "{'Categorical': array([[0., 0., 0., ..., 0., 0., 0.],\n",
       "        [0., 0., 0., ..., 0., 0., 0.],\n",
       "        [0., 0., 0., ..., 0., 0., 0.]], dtype=float32),\n",
       " 'FullDescription': array([[27645, 29893, 33674, 32939,   982, 27645, 29893, 33674, 16451,\n",
       "         32939],\n",
       "        [29239,   197, 19175, 20042, 15554, 23162,  4051, 25511,   907,\n",
       "            82],\n",
       "        [30746, 21956, 20601,  6409, 16451,  8165, 27493,   982, 30412,\n",
       "         17746]], dtype=int32),\n",
       " 'Log1pSalary': array([ 9.71154 , 10.463132, 10.71444 ], dtype=float32),\n",
       " 'Title': array([[27645, 29893, 33674,     1,     1,     1,     1],\n",
       "        [29239,   197, 19175, 20042, 15554, 23162,  4051],\n",
       "        [10609, 30412, 17746,    33,  8705, 29157,    65]], dtype=int32)}"
      ]
     },
     "execution_count": 21,
     "metadata": {},
     "output_type": "execute_result"
    }
   ],
   "source": [
    "make_batch(data_train[:3], max_len=10)"
   ]
  },
  {
   "cell_type": "markdown",
   "metadata": {},
   "source": [
    "#### Architecture\n",
    "\n",
    "Our basic model consists of three branches:\n",
    "* Title encoder\n",
    "* Description encoder\n",
    "* Categorical features encoder\n",
    "\n",
    "We will then feed all 3 branches into one common network that predicts salary.\n",
    "\n",
    "<img src=\"https://github.com/yandexdataschool/nlp_course/raw/master/resources/w2_conv_arch.png\" width=600px>"
   ]
  },
  {
   "cell_type": "markdown",
   "metadata": {},
   "source": [
    "This clearly doesn't fit into keras' __Sequential__ interface. To build such a network, one will have to use __[Keras Functional API](https://keras.io/models/model/)__."
   ]
  },
  {
   "cell_type": "code",
   "execution_count": 22,
   "metadata": {},
   "outputs": [
    {
     "name": "stderr",
     "output_type": "stream",
     "text": [
      "Using TensorFlow backend.\n"
     ]
    }
   ],
   "source": [
    "import keras\n",
    "import keras.layers as L"
   ]
  },
  {
   "cell_type": "code",
   "execution_count": 23,
   "metadata": {},
   "outputs": [],
   "source": [
    "def build_model(n_tokens=len(tokens), n_cat_features=len(categorical_vectorizer.vocabulary_), hid_size=64):\n",
    "    \"\"\" Build a model that maps three data sources to a single linear output: predicted log1p(salary) \"\"\"\n",
    "    \n",
    "    l_title = L.Input(shape=[None], name=\"Title\")\n",
    "    l_descr = L.Input(shape=[None], name=\"FullDescription\")\n",
    "    l_categ = L.Input(shape=[n_cat_features], name=\"Categorical\")\n",
    "    \n",
    "    # Build your monster!\n",
    "    \n",
    "    # <YOUR CODE>\n",
    "    title_emb = L.Embedding(n_tokens, hid_size, embeddings_initializer=keras.initializers.he_uniform())(l_title)\n",
    "    title_conv = L.Conv1D(64, 3, activation='relu')(title_emb)\n",
    "    title_dropout = L.Dropout\n",
    "    title_pool = L.GlobalMaxPooling1D()(title_conv)\n",
    "    \n",
    "    descr_emb = L.Embedding(n_tokens, hid_size, embeddings_initializer=keras.initializers.he_uniform())(l_descr)\n",
    "    descr_conv = L.Conv1D(64, 5, activation='relu')(descr_emb)\n",
    "    descr_pool = L.GlobalMaxPooling1D()(descr_conv)\n",
    "    \n",
    "    categ_emb = L.Dense(hid_size, activation='relu')(l_categ)\n",
    "    \n",
    "    job_emb = L.Concatenate()([title_pool, descr_pool, categ_emb])\n",
    "    \n",
    "    output_layer = L.Dense(1, activation='relu')(job_emb)\n",
    "    # end of your code\n",
    "    \n",
    "    model = keras.models.Model(inputs=[l_title, l_descr, l_categ], outputs=[output_layer])\n",
    "    model.compile('adam', 'mean_squared_error', metrics=['mean_absolute_error'])\n",
    "    return model\n",
    "    "
   ]
  },
  {
   "cell_type": "code",
   "execution_count": 24,
   "metadata": {},
   "outputs": [
    {
     "name": "stderr",
     "output_type": "stream",
     "text": [
      "WARNING: Logging before flag parsing goes to stderr.\n",
      "W0723 11:33:43.896756 140683615008512 deprecation_wrapper.py:119] From /usr/local/lib/python3.5/dist-packages/keras/backend/tensorflow_backend.py:517: The name tf.placeholder is deprecated. Please use tf.compat.v1.placeholder instead.\n",
      "\n",
      "W0723 11:33:43.943662 140683615008512 deprecation_wrapper.py:119] From /usr/local/lib/python3.5/dist-packages/keras/backend/tensorflow_backend.py:74: The name tf.get_default_graph is deprecated. Please use tf.compat.v1.get_default_graph instead.\n",
      "\n",
      "W0723 11:33:43.944843 140683615008512 deprecation_wrapper.py:119] From /usr/local/lib/python3.5/dist-packages/keras/backend/tensorflow_backend.py:4138: The name tf.random_uniform is deprecated. Please use tf.random.uniform instead.\n",
      "\n",
      "W0723 11:33:44.150808 140683615008512 deprecation_wrapper.py:119] From /usr/local/lib/python3.5/dist-packages/keras/optimizers.py:790: The name tf.train.Optimizer is deprecated. Please use tf.compat.v1.train.Optimizer instead.\n",
      "\n",
      "W0723 11:33:44.223800 140683615008512 deprecation_wrapper.py:119] From /usr/local/lib/python3.5/dist-packages/keras/backend/tensorflow_backend.py:2741: The name tf.Session is deprecated. Please use tf.compat.v1.Session instead.\n",
      "\n",
      "W0723 11:33:44.226708 140683615008512 deprecation_wrapper.py:119] From /usr/local/lib/python3.5/dist-packages/keras/backend/tensorflow_backend.py:174: The name tf.get_default_session is deprecated. Please use tf.compat.v1.get_default_session instead.\n",
      "\n"
     ]
    },
    {
     "name": "stdout",
     "output_type": "stream",
     "text": [
      "__________________________________________________________________________________________________\n",
      "Layer (type)                    Output Shape         Param #     Connected to                     \n",
      "==================================================================================================\n",
      "Title (InputLayer)              (None, None)         0                                            \n",
      "__________________________________________________________________________________________________\n",
      "FullDescription (InputLayer)    (None, None)         0                                            \n",
      "__________________________________________________________________________________________________\n",
      "embedding_1 (Embedding)         (None, None, 64)     2186112     Title[0][0]                      \n",
      "__________________________________________________________________________________________________\n",
      "embedding_2 (Embedding)         (None, None, 64)     2186112     FullDescription[0][0]            \n",
      "__________________________________________________________________________________________________\n",
      "conv1d_1 (Conv1D)               (None, None, 64)     12352       embedding_1[0][0]                \n",
      "__________________________________________________________________________________________________\n",
      "conv1d_2 (Conv1D)               (None, None, 64)     20544       embedding_2[0][0]                \n",
      "__________________________________________________________________________________________________\n",
      "Categorical (InputLayer)        (None, 3768)         0                                            \n",
      "__________________________________________________________________________________________________\n",
      "global_max_pooling1d_1 (GlobalM (None, 64)           0           conv1d_1[0][0]                   \n",
      "__________________________________________________________________________________________________\n",
      "global_max_pooling1d_2 (GlobalM (None, 64)           0           conv1d_2[0][0]                   \n",
      "__________________________________________________________________________________________________\n",
      "dense_1 (Dense)                 (None, 64)           241216      Categorical[0][0]                \n",
      "__________________________________________________________________________________________________\n",
      "concatenate_1 (Concatenate)     (None, 192)          0           global_max_pooling1d_1[0][0]     \n",
      "                                                                 global_max_pooling1d_2[0][0]     \n",
      "                                                                 dense_1[0][0]                    \n",
      "__________________________________________________________________________________________________\n",
      "dense_2 (Dense)                 (None, 1)            193         concatenate_1[0][0]              \n",
      "==================================================================================================\n",
      "Total params: 4,646,529\n",
      "Trainable params: 4,646,529\n",
      "Non-trainable params: 0\n",
      "__________________________________________________________________________________________________\n",
      "[0.         0.00041518 0.00083583 0.00105073 0.00140737 0.00275819\n",
      " 0.00344988 0.00370145 0.00415727 0.0047046  0.00501487 0.00583892\n",
      " 0.00610062 0.00622656 0.00645491 0.006595   0.00692521 0.0076809\n",
      " 0.00828649 0.00853331 0.00860653 0.00889158 0.01218322 0.01301777\n",
      " 0.01309478 0.01422706 0.01465149 0.01516424 0.01586489 0.01621586\n",
      " 0.01712578 0.01715464 0.01959481 0.01960453 0.02055978 0.020775\n",
      " 0.02078758 0.02204352 0.02226277 0.02229195 0.02259922 0.02292481\n",
      " 0.02312272 0.02327891 0.02525072 0.02586181 0.02682198 0.0271305\n",
      " 0.02719178 0.03056075 0.03087561 0.03393801 0.03526726 0.03728804\n",
      " 0.04356269 0.04453461 0.04660549 0.04935002 0.05109233]\n"
     ]
    }
   ],
   "source": [
    "model = build_model()\n",
    "model.summary()\n",
    "\n",
    "dummy_pred = model.predict(make_batch(data_train[:100]))\n",
    "dummy_loss = model.train_on_batch(make_batch(data_train[:100]), data_train['Log1pSalary'][:100])[0]\n",
    "\n",
    "print(np.unique(dummy_pred))\n",
    "\n",
    "assert dummy_pred.shape == (100, 1)\n",
    "assert len(np.unique(dummy_pred)) > 20, \"model returns suspiciously few unique outputs. Check your initialization\"\n",
    "assert np.ndim(dummy_loss) == 0 and 0. <= dummy_loss <= 250., \"make sure you minimize MSE\""
   ]
  },
  {
   "cell_type": "markdown",
   "metadata": {},
   "source": [
    "#### Training and evaluation\n",
    "\n",
    "As usual, we gonna feed our monster with random minibatches of data. \n",
    "\n",
    "As we train, we want to monitor not only loss function, which is computed in log-space, but also the actual error measured in dollars."
   ]
  },
  {
   "cell_type": "code",
   "execution_count": 25,
   "metadata": {},
   "outputs": [],
   "source": [
    "def iterate_minibatches(data, batch_size=256, shuffle=True, cycle=False, **kwargs):\n",
    "    \"\"\" iterates minibatches of data in random order \"\"\"\n",
    "    while True:\n",
    "        indices = np.arange(len(data))\n",
    "        if shuffle:\n",
    "            indices = np.random.permutation(indices)\n",
    "\n",
    "        for start in range(0, len(indices), batch_size):\n",
    "            batch = make_batch(data.iloc[indices[start : start + batch_size]], **kwargs)\n",
    "            target = batch.pop(target_column)\n",
    "            yield batch, target\n",
    "        \n",
    "        if not cycle: break"
   ]
  },
  {
   "cell_type": "markdown",
   "metadata": {},
   "source": [
    "### Model training\n",
    "\n",
    "We can now fit our model the usual minibatch way. The interesting part is that we train on an infinite stream of minibatches, produced by `iterate_minibatches` function."
   ]
  },
  {
   "cell_type": "code",
   "execution_count": 26,
   "metadata": {},
   "outputs": [
    {
     "name": "stdout",
     "output_type": "stream",
     "text": [
      "Epoch 1/10\n",
      "100/100 [==============================] - 91s 915ms/step - loss: 31.8952 - mean_absolute_error: 4.1493 - val_loss: 0.3901 - val_mean_absolute_error: 0.4726\n",
      "Epoch 2/10\n",
      "100/100 [==============================] - 86s 860ms/step - loss: 0.2952 - mean_absolute_error: 0.4190 - val_loss: 0.2522 - val_mean_absolute_error: 0.3831\n",
      "Epoch 3/10\n",
      "100/100 [==============================] - 89s 890ms/step - loss: 0.2117 - mean_absolute_error: 0.3524 - val_loss: 0.1944 - val_mean_absolute_error: 0.3352\n",
      "Epoch 4/10\n",
      "100/100 [==============================] - 88s 884ms/step - loss: 0.1694 - mean_absolute_error: 0.3147 - val_loss: 0.1556 - val_mean_absolute_error: 0.2999\n",
      "Epoch 5/10\n",
      "100/100 [==============================] - 88s 879ms/step - loss: 0.1454 - mean_absolute_error: 0.2889 - val_loss: 0.1336 - val_mean_absolute_error: 0.2758\n",
      "Epoch 6/10\n",
      "100/100 [==============================] - 87s 874ms/step - loss: 0.1207 - mean_absolute_error: 0.2644 - val_loss: 0.1162 - val_mean_absolute_error: 0.2563\n",
      "Epoch 7/10\n",
      "100/100 [==============================] - 90s 898ms/step - loss: 0.1115 - mean_absolute_error: 0.2498 - val_loss: 0.1054 - val_mean_absolute_error: 0.2422\n",
      "Epoch 8/10\n",
      "100/100 [==============================] - 88s 878ms/step - loss: 0.1000 - mean_absolute_error: 0.2374 - val_loss: 0.0968 - val_mean_absolute_error: 0.2319\n",
      "Epoch 9/10\n",
      "100/100 [==============================] - 89s 891ms/step - loss: 0.0877 - mean_absolute_error: 0.2217 - val_loss: 0.0920 - val_mean_absolute_error: 0.2253\n",
      "Epoch 10/10\n",
      "100/100 [==============================] - 89s 888ms/step - loss: 0.0842 - mean_absolute_error: 0.2161 - val_loss: 0.0850 - val_mean_absolute_error: 0.2165\n"
     ]
    },
    {
     "data": {
      "text/plain": [
       "<keras.callbacks.History at 0x7ff2f45ec0f0>"
      ]
     },
     "execution_count": 26,
     "metadata": {},
     "output_type": "execute_result"
    }
   ],
   "source": [
    "batch_size = 256\n",
    "epochs = 10            # definitely too small\n",
    "steps_per_epoch = 100  # for full pass over data: (len(data_train) - 1) // batch_size + 1\n",
    "\n",
    "model = build_model()\n",
    "\n",
    "model.fit_generator(iterate_minibatches(data_train, batch_size, cycle=True, word_dropout=0.05), \n",
    "                    epochs=epochs, steps_per_epoch=steps_per_epoch,\n",
    "                    \n",
    "                    validation_data=iterate_minibatches(data_val, batch_size, cycle=True),\n",
    "                    validation_steps=data_val.shape[0] // batch_size\n",
    "                   )"
   ]
  },
  {
   "cell_type": "code",
   "execution_count": 27,
   "metadata": {},
   "outputs": [
    {
     "name": "stdout",
     "output_type": "stream",
     "text": [
      "Train results:\n",
      "Mean square error: 0.07954\n",
      "Mean absolute error: 0.20862\n",
      "Val results:\n",
      "Mean square error: 0.08610\n",
      "Mean absolute error: 0.21748\n"
     ]
    }
   ],
   "source": [
    "def print_metrics(model, data, batch_size=batch_size, name=\"\", **kw):\n",
    "    squared_error = abs_error = num_samples = 0.0\n",
    "    for batch_x, batch_y in iterate_minibatches(data, batch_size=batch_size, shuffle=False, **kw):\n",
    "        batch_pred = model.predict(batch_x)[:, 0]\n",
    "        squared_error += np.sum(np.square(batch_pred - batch_y))\n",
    "        abs_error += np.sum(np.abs(batch_pred - batch_y))\n",
    "        num_samples += len(batch_y)\n",
    "    print(\"%s results:\" % (name or \"\"))\n",
    "    print(\"Mean square error: %.5f\" % (squared_error / num_samples))\n",
    "    print(\"Mean absolute error: %.5f\" % (abs_error / num_samples))\n",
    "    return squared_error, abs_error\n",
    "    \n",
    "print_metrics(model, data_train, name='Train')\n",
    "print_metrics(model, data_val, name='Val');"
   ]
  },
  {
   "cell_type": "markdown",
   "metadata": {},
   "source": [
    "### Bonus part: explaining model predictions\n",
    "\n",
    "It's usually a good idea to understand how your model works before you let it make actual decisions. It's simple for linear models: just see which words learned positive or negative weights. However, its much harder for neural networks that learn complex nonlinear dependencies.\n",
    "\n",
    "There are, however, some ways to look inside the black box:\n",
    "* Seeing how model responds to input perturbations\n",
    "* Finding inputs that maximize/minimize activation of some chosen neurons (_read more [on distill.pub](https://distill.pub/2018/building-blocks/)_)\n",
    "* Building local linear approximations to your neural network: [article](https://arxiv.org/abs/1602.04938), [eli5 library](https://github.com/TeamHG-Memex/eli5/tree/master/eli5/formatters)\n",
    "\n",
    "Today we gonna try the first method just because it's the simplest one."
   ]
  },
  {
   "cell_type": "code",
   "execution_count": 28,
   "metadata": {},
   "outputs": [],
   "source": [
    "def explain(model, sample, col_name='Title'):\n",
    "    \"\"\" Computes the effect each word had on model predictions \"\"\"\n",
    "    sample = dict(sample)\n",
    "    sample_col_tokens = [tokens[token_to_id.get(tok, 0)] for tok in sample[col_name].split()]\n",
    "    data_drop_one_token = pd.DataFrame([sample] * (len(sample_col_tokens) + 1))\n",
    "\n",
    "    for drop_i in range(len(sample_col_tokens)):\n",
    "        data_drop_one_token.loc[drop_i, col_name] = ' '.join(UNK if i == drop_i else tok\n",
    "                                                   for i, tok in enumerate(sample_col_tokens)) \n",
    "\n",
    "    *predictions_drop_one_token, baseline_pred = model.predict(make_batch(data_drop_one_token))[:, 0]\n",
    "    diffs = baseline_pred - predictions_drop_one_token\n",
    "    return list(zip(sample_col_tokens, diffs))"
   ]
  },
  {
   "cell_type": "code",
   "execution_count": 29,
   "metadata": {},
   "outputs": [],
   "source": [
    "from IPython.display import HTML, display_html\n",
    "\n",
    "def draw_html(tokens_and_weights, cmap=plt.get_cmap(\"bwr\"), display=True,\n",
    "              token_template=\"\"\"<span style=\"background-color: {color_hex}\">{token}</span>\"\"\",\n",
    "              font_style=\"font-size:14px;\"\n",
    "             ):\n",
    "    \n",
    "    def get_color_hex(weight):\n",
    "        rgba = cmap(1. / (1 + np.exp(weight)), bytes=True)\n",
    "        return '#%02X%02X%02X' % rgba[:3]\n",
    "    \n",
    "    tokens_html = [\n",
    "        token_template.format(token=token, color_hex=get_color_hex(weight))\n",
    "        for token, weight in tokens_and_weights\n",
    "    ]\n",
    "    \n",
    "    \n",
    "    raw_html = \"\"\"<p style=\"{}\">{}</p>\"\"\".format(font_style, ' '.join(tokens_html))\n",
    "    if display:\n",
    "        display_html(HTML(raw_html))\n",
    "        \n",
    "    return raw_html\n",
    "    "
   ]
  },
  {
   "cell_type": "code",
   "execution_count": 32,
   "metadata": {},
   "outputs": [
    {
     "data": {
      "text/html": [
       "<p style=\"font-size:20px;\"><span style=\"background-color: #FFE0E0\">sales</span> <span style=\"background-color: #FFD6D6\">specialist</span> <span style=\"background-color: #FF0404\">iv</span> <span style=\"background-color: #FF2020\">access</span> <span style=\"background-color: #FFE4E4\">and</span> <span style=\"background-color: #FF0909\">infusion</span></p>"
      ]
     },
     "metadata": {},
     "output_type": "display_data"
    },
    {
     "data": {
      "text/html": [
       "<p style=\"font-size:14px;\"><span style=\"background-color: #FEFEFF\">sales</span> <span style=\"background-color: #FEFEFF\">representative</span> <span style=\"background-color: #FEFEFF\">medical</span> <span style=\"background-color: #FEFEFF\">sales</span> <span style=\"background-color: #FEFEFF\">iv</span> <span style=\"background-color: #FFFCFC\">access</span> <span style=\"background-color: #FEFEFF\">and</span> <span style=\"background-color: #FEFEFF\">infusion</span> <span style=\"background-color: #FEFEFF\">an</span> <span style=\"background-color: #FEFEFF\">opportunity</span> <span style=\"background-color: #FEFEFF\">to</span> <span style=\"background-color: #FFFAFA\">work</span> <span style=\"background-color: #FEFEFF\">for</span> <span style=\"background-color: #FFFAFA\">the</span> <span style=\"background-color: #FFF8F8\">industry</span> <span style=\"background-color: #FEFEFF\">leading</span> <span style=\"background-color: #FEFEFF\">manufacturer</span> <span style=\"background-color: #FEFEFF\">of</span> <span style=\"background-color: #FEFEFF\">iv</span> <span style=\"background-color: #FEFEFF\">access</span> <span style=\"background-color: #FEFEFF\">and</span> <span style=\"background-color: #FFFEFE\">infusion</span> <span style=\"background-color: #FFFEFE\">solutions</span> <span style=\"background-color: #FFFEFE\">.</span> <span style=\"background-color: #FFFEFE\">formally</span> <span style=\"background-color: #FFFEFE\">recognised</span> <span style=\"background-color: #FEFEFF\">as</span> <span style=\"background-color: #FEFEFF\">the</span> <span style=\"background-color: #FFFCFC\">number</span> <span style=\"background-color: #FEFEFF\">****</span> <span style=\"background-color: #FFF2F2\">company</span> <span style=\"background-color: #FFF8F8\">in</span> <span style=\"background-color: #FFF0F0\">this</span> <span style=\"background-color: #FEFEFF\">market</span> <span style=\"background-color: #FFF4F4\">space</span> <span style=\"background-color: #FEFEFF\">,</span> <span style=\"background-color: #FFF6F6\">our</span> <span style=\"background-color: #FEFEFF\">client</span> <span style=\"background-color: #FFFEFE\">are</span> <span style=\"background-color: #FEFEFF\">an</span> <span style=\"background-color: #FFE0E0\">ethical</span> <span style=\"background-color: #FEFEFF\">and</span> <span style=\"background-color: #FEFEFF\">dynamic</span> <span style=\"background-color: #FEFEFF\">organisation</span> <span style=\"background-color: #FEFEFF\">absolutely</span> <span style=\"background-color: #FEFEFF\">committed</span> <span style=\"background-color: #FEFEFF\">to</span> <span style=\"background-color: #FEFEFF\">the</span> <span style=\"background-color: #FFFAFA\">advancement</span> <span style=\"background-color: #FEFEFF\">of</span> <span style=\"background-color: #FEFEFF\">innovative</span> <span style=\"background-color: #FEFEFF\">technologies</span> <span style=\"background-color: #FFFEFE\">.</span> <span style=\"background-color: #FFFEFE\">job</span> <span style=\"background-color: #FEFEFF\">title</span> <span style=\"background-color: #FEFEFF\">:</span> <span style=\"background-color: #FEFEFF\">sales</span> <span style=\"background-color: #FEFEFF\">specialist</span> <span style=\"background-color: #FEFEFF\">iv</span> <span style=\"background-color: #FEFEFF\">access</span> <span style=\"background-color: #FEFEFF\">and</span> <span style=\"background-color: #FEFEFF\">infusion</span> <span style=\"background-color: #FFFEFE\">selling</span> <span style=\"background-color: #FFFEFE\">:</span> <span style=\"background-color: #FEFEFF\">medication</span> <span style=\"background-color: #FCFCFF\">delivery</span> <span style=\"background-color: #FCFCFF\">solutions</span> <span style=\"background-color: #FEFEFF\">selling</span> <span style=\"background-color: #FFF8F8\">to</span> <span style=\"background-color: #FAFAFF\">:</span> <span style=\"background-color: #FFE8E8\">iv</span> <span style=\"background-color: #FEFEFF\">teams</span> <span style=\"background-color: #FEFEFF\">,</span> <span style=\"background-color: #FFEEEE\">infection</span> <span style=\"background-color: #FFFEFE\">control</span> <span style=\"background-color: #FFF4F4\">,</span> <span style=\"background-color: #FEFEFF\">lead</span> <span style=\"background-color: #FFFAFA\">intensive</span> <span style=\"background-color: #FEFEFF\">care</span> <span style=\"background-color: #FEFEFF\">nurse</span> <span style=\"background-color: #FEFEFF\">specialists</span> <span style=\"background-color: #FEFEFF\">,</span> <span style=\"background-color: #FEFEFF\">ward</span> <span style=\"background-color: #FEFEFF\">managers</span> <span style=\"background-color: #FFF4F4\">territory</span> <span style=\"background-color: #FEFEFF\">:</span> <span style=\"background-color: #FFF0F0\">east</span> <span style=\"background-color: #FFE8E8\">midlands</span> <span style=\"background-color: #FFF0F0\">location</span> <span style=\"background-color: #FFFCFC\">:</span> <span style=\"background-color: #FFF6F6\">east</span> <span style=\"background-color: #FFEEEE\">midlands</span> <span style=\"background-color: #FFF0F0\">package</span> <span style=\"background-color: #FCFCFF\">:</span> <span style=\"background-color: #FFEAEA\">basic</span> <span style=\"background-color: #FFFAFA\">:</span> <span style=\"background-color: #FFDEDE\">****</span> <span style=\"background-color: #FFFAFA\">k</span> <span style=\"background-color: #FFE8E8\">****</span> <span style=\"background-color: #FFF8F8\">k</span> <span style=\"background-color: #FFFCFC\">,</span> <span style=\"background-color: #FFCACA\">uncapped</span> <span style=\"background-color: #FFEEEE\">bonus</span> <span style=\"background-color: #EAEAFF\">in</span> <span style=\"background-color: #FFC6C6\">addition</span> <span style=\"background-color: #E6E6FF\">,</span> <span style=\"background-color: #F2F2FF\">full</span> <span style=\"background-color: #FFF0F0\">corporate</span> <span style=\"background-color: #FFECEC\">benefits</span> <span style=\"background-color: #FFF4F4\">company</span> <span style=\"background-color: #FEFEFF\">information</span> <span style=\"background-color: #FEFEFF\">hugely</span> <span style=\"background-color: #FEFEFF\">ethical</span> <span style=\"background-color: #FEFEFF\">and</span> <span style=\"background-color: #FFF8F8\">professional</span> <span style=\"background-color: #FEFEFF\">global</span> <span style=\"background-color: #FFF8F8\">organisation</span> <span style=\"background-color: #FEFEFF\">extremely</span> <span style=\"background-color: #FFFEFE\">well</span> <span style=\"background-color: #FFFEFE\">established</span> <span style=\"background-color: #FEFEFF\">in</span> <span style=\"background-color: #FFFEFE\">the</span> <span style=\"background-color: #FFFEFE\">uk</span> <span style=\"background-color: #FFF8F8\">the</span> <span style=\"background-color: #FEFEFF\">market</span> <span style=\"background-color: #FFF6F6\">leader</span> <span style=\"background-color: #FFFEFE\">across</span> <span style=\"background-color: #FFFAFA\">all</span> <span style=\"background-color: #FEFEFF\">of</span> <span style=\"background-color: #FFF2F2\">their</span> <span style=\"background-color: #FEFEFF\">core</span> <span style=\"background-color: #FEFEFF\">business</span> <span style=\"background-color: #FFE8E8\">areas</span> <span style=\"background-color: #FFFEFE\">focus</span> <span style=\"background-color: #FEFEFF\">on</span> <span style=\"background-color: #FEFEFF\">providing</span> <span style=\"background-color: #FEFEFF\">cutting</span> <span style=\"background-color: #FFFEFE\">edge</span> <span style=\"background-color: #FEFEFF\">solutions</span> <span style=\"background-color: #FFFCFC\">along</span> <span style=\"background-color: #FEFEFF\">with</span> <span style=\"background-color: #FFFCFC\">outstanding</span> <span style=\"background-color: #FFF2F2\">service</span> <span style=\"background-color: #FFFEFE\">and</span> <span style=\"background-color: #FFF6F6\">support</span> <span style=\"background-color: #FEFEFF\">a</span> <span style=\"background-color: #FFFEFE\">business</span> <span style=\"background-color: #FFEAEA\">that</span> <span style=\"background-color: #FEFEFF\">retain</span> <span style=\"background-color: #FEFEFF\">talented</span> <span style=\"background-color: #FEFEFF\">personnel</span> <span style=\"background-color: #FEFEFF\">by</span> <span style=\"background-color: #FFEEEE\">offering</span> <span style=\"background-color: #E8E8FF\">a</span> <span style=\"background-color: #FFF4F4\">strong</span> <span style=\"background-color: #FFF2F2\">platform</span> <span style=\"background-color: #F2F2FF\">for</span> <span style=\"background-color: #FFD6D6\">career</span> <span style=\"background-color: #FFFAFA\">development</span> <span style=\"background-color: #FFFCFC\">sales</span> <span style=\"background-color: #FEFEFF\">specialist</span> <span style=\"background-color: #FEFEFF\">iv</span> <span style=\"background-color: #FEFEFF\">access</span> <span style=\"background-color: #FEFEFF\">and</span> <span style=\"background-color: #FEFEFF\">infusion</span> <span style=\"background-color: #FEFEFF\">you</span> <span style=\"background-color: #FEFEFF\">must</span> <span style=\"background-color: #FEFEFF\">have</span> <span style=\"background-color: #FEFEFF\">/</span> <span style=\"background-color: #FEFEFF\">be</span> <span style=\"background-color: #FEFEFF\">the</span> <span style=\"background-color: #FFFCFC\">following</span> <span style=\"background-color: #FCFCFF\">at</span> <span style=\"background-color: #F2F2FF\">least</span> <span style=\"background-color: #FFF8F8\">2</span> <span style=\"background-color: #E2E2FF\">years</span> <span style=\"background-color: #E0E0FF\">medical</span> <span style=\"background-color: #FFE8E8\">device</span> <span style=\"background-color: #FFEEEE\">sales</span> <span style=\"background-color: #FCFCFF\">experience</span> <span style=\"background-color: #F0F0FF\">.</span> <span style=\"background-color: #F2F2FF\">candidates</span> <span style=\"background-color: #F6F6FF\">who</span> <span style=\"background-color: #F2F2FF\">have</span> <span style=\"background-color: #FFFEFE\">sold</span> <span style=\"background-color: #FFFCFC\">disposables</span> <span style=\"background-color: #FEFEFF\">/</span> <span style=\"background-color: #FEFEFF\">consumables</span> <span style=\"background-color: #FEFEFF\">or</span> <span style=\"background-color: #FEFEFF\">similar</span> <span style=\"background-color: #FAFAFF\">into</span> <span style=\"background-color: #EEEEFF\">hospitals</span> <span style=\"background-color: #FAFAFF\">would</span> <span style=\"background-color: #FFF0F0\">be</span> <span style=\"background-color: #F8F8FF\">of</span> <span style=\"background-color: #FFFAFA\">particular</span> <span style=\"background-color: #FEFEFF\">interest</span> <span style=\"background-color: #F6F6FF\">.</span> <span style=\"background-color: #FFFCFC\">candidates</span> <span style=\"background-color: #F6F6FF\">must</span> <span style=\"background-color: #F6F6FF\">have</span> <span style=\"background-color: #FFEEEE\">sold</span> <span style=\"background-color: #FFF8F8\">into</span> <span style=\"background-color: #EEEEFF\">hospitals</span> <span style=\"background-color: #FFFCFC\">demonstrable</span> <span style=\"background-color: #FFE2E2\">performance</span> <span style=\"background-color: #F8F8FF\">and</span> <span style=\"background-color: #FFF6F6\">achievements</span> <span style=\"background-color: #FEFEFF\">so</span> <span style=\"background-color: #FEFEFF\">far</span> <span style=\"background-color: #FEFEFF\">personable</span> <span style=\"background-color: #FEFEFF\">,</span> <span style=\"background-color: #FEFEFF\">adaptable</span> <span style=\"background-color: #FEFEFF\">and</span> <span style=\"background-color: #FFFEFE\">willing</span> <span style=\"background-color: #FEFEFF\">to</span> <span style=\"background-color: #FEFEFF\">learn</span> <span style=\"background-color: #FEFEFF\">keen</span> <span style=\"background-color: #FEFEFF\">and</span> <span style=\"background-color: #FFFCFC\">eager</span> <span style=\"background-color: #FEFEFF\">to</span> <span style=\"background-color: #FFFAFA\">be</span> <span style=\"background-color: #FFFEFE\">a</span> <span style=\"background-color: #FFFAFA\">success</span> <span style=\"background-color: #FFFAFA\">candidates</span> <span style=\"background-color: #F2F2FF\">must</span> <span style=\"background-color: #FFFCFC\">have</span> <span style=\"background-color: #E3E3FF\">a</span> <span style=\"background-color: #FFD3D3\">degree</span> <span style=\"background-color: #FCFCFF\">or</span> <span style=\"background-color: #FFFEFE\">at</span> <span style=\"background-color: #FEFEFF\">least</span> <span style=\"background-color: #FEFEFF\">be</span> <span style=\"background-color: #FEFEFF\">able</span> <span style=\"background-color: #FEFEFF\">to</span> <span style=\"background-color: #FEFEFF\">show</span> <span style=\"background-color: #FEFEFF\">a</span> <span style=\"background-color: #FEFEFF\">strong</span> <span style=\"background-color: #FFFCFC\">ability</span> <span style=\"background-color: #FEFEFF\">to</span> <span style=\"background-color: #FFFEFE\">learn</span> <span style=\"background-color: #FEFEFF\">role</span> <span style=\"background-color: #FFECEC\">information</span> <span style=\"background-color: #FEFEFF\">managing</span> <span style=\"background-color: #FFF0F0\">the</span> <span style=\"background-color: #FFFCFC\">east</span> <span style=\"background-color: #FFECEC\">midlands</span> <span style=\"background-color: #FFD8D8\">region</span> <span style=\"background-color: #FFF4F4\">selling</span> <span style=\"background-color: #E8E8FF\">across</span> <span style=\"background-color: #E8E8FF\">the</span> <span style=\"background-color: #FFFAFA\">company</span> <span style=\"background-color: #FEFEFF\">'</span> <span style=\"background-color: #FEFEFF\">s</span> <span style=\"background-color: #FFFCFC\">range</span> <span style=\"background-color: #FFEAEA\">of</span> <span style=\"background-color: #FEFEFF\">iv</span> <span style=\"background-color: #FEFEFF\">and</span> <span style=\"background-color: #FFF2F2\">infusion</span> <span style=\"background-color: #FEFEFF\">solutions</span> <span style=\"background-color: #FFFCFC\">portfolio</span> <span style=\"background-color: #FEFEFF\">selling</span> <span style=\"background-color: #FFF2F2\">into</span> <span style=\"background-color: #FEFEFF\">lead</span> <span style=\"background-color: #FFFEFE\">intensive</span> <span style=\"background-color: #FEFEFF\">care</span> <span style=\"background-color: #FEFEFF\">nurse</span> <span style=\"background-color: #FEFEFF\">specialists</span> <span style=\"background-color: #FEFEFF\">,</span> <span style=\"background-color: #FEFEFF\">ward</span> <span style=\"background-color: #FEFEFF\">managers</span> <span style=\"background-color: #FFF4F4\">,</span> <span style=\"background-color: #FFF8F8\">iv</span> <span style=\"background-color: #FEFEFF\">teams</span> <span style=\"background-color: #FEFEFF\">,</span> <span style=\"background-color: #FFACAC\">infection</span> <span style=\"background-color: #FFF6F6\">control</span> <span style=\"background-color: #FEFEFF\">teams</span> <span style=\"background-color: #FEFEFF\">,</span> <span style=\"background-color: #FFF0F0\">procurement</span> <span style=\"background-color: #FFE8E8\">sales</span> <span style=\"background-color: #FFFAFA\">specialist</span> <span style=\"background-color: #FFFEFE\">iv</span> <span style=\"background-color: #FEFEFF\">access</span> <span style=\"background-color: #FEFEFF\">and</span> <span style=\"background-color: #FEFEFF\">infusion</span> <span style=\"background-color: #FFFEFE\">candidates</span> <span style=\"background-color: #FFFCFC\">must</span> <span style=\"background-color: #FFFAFA\">be</span> <span style=\"background-color: #FFFCFC\">eligible</span> <span style=\"background-color: #FFFEFE\">to</span> <span style=\"background-color: #FFFCFC\">work</span> <span style=\"background-color: #FEFEFF\">and</span> <span style=\"background-color: #FFE8E8\">live</span> <span style=\"background-color: #ECECFF\">in</span> <span style=\"background-color: #FEFEFF\">the</span> <span style=\"background-color: #FFF8F8\">uk</span> <span style=\"background-color: #FAFAFF\">.</span> <span style=\"background-color: #FEFEFF\">please</span> <span style=\"background-color: #FEFEFF\">contact</span> <span style=\"background-color: #FEFEFF\">allan</span> <span style=\"background-color: #FEFEFF\">waller</span> <span style=\"background-color: #FEFEFF\">on</span> <span style=\"background-color: #FFFEFE\">****</span> <span style=\"background-color: #FEFEFF\">****</span> <span style=\"background-color: #FFF8F8\">****</span> <span style=\"background-color: #FEFEFF\">or</span> <span style=\"background-color: #FFF4F4\">please</span> <span style=\"background-color: #FEFEFF\">hit</span> <span style=\"background-color: #FFFCFC\">the</span> <span style=\"background-color: #FFFCFC\">apply</span> <span style=\"background-color: #FEFEFF\">button</span> <span style=\"background-color: #FEFEFF\">.</span> <span style=\"background-color: #FFF6F6\">this</span> <span style=\"background-color: #F0F0FF\">job</span> <span style=\"background-color: #FFEEEE\">was</span> <span style=\"background-color: #FFEEEE\">originally</span> <span style=\"background-color: #FFEAEA\">posted</span> <span style=\"background-color: #FFF4F4\">as</span> <span style=\"background-color: #E3E3FF\">www</span> <span style=\"background-color: #FFF6F6\">.</span> <span style=\"background-color: #E8E8FF\">salestarget</span> <span style=\"background-color: #BABAFF\">.</span> <span style=\"background-color: #F3F3FF\">co</span> <span style=\"background-color: #CECEFF\">.</span> <span style=\"background-color: #DEDEFF\">uk</span> <span style=\"background-color: #FEFEFF\">/</span> <span style=\"background-color: #ECECFF\">jobseeking</span> <span style=\"background-color: #ECECFF\">/</span> <span style=\"background-color: #FFFEFE\">UNK</span> <span style=\"background-color: #FFF8F8\">****</span></p>"
      ]
     },
     "metadata": {},
     "output_type": "display_data"
    }
   ],
   "source": [
    "i = 36605\n",
    "tokens_and_weights = explain(model, data.loc[i], \"Title\")\n",
    "draw_html([(tok, weight * 5) for tok, weight in tokens_and_weights], font_style='font-size:20px;');\n",
    "\n",
    "tokens_and_weights = explain(model, data.loc[i], \"FullDescription\")\n",
    "draw_html([(tok, weight * 10) for tok, weight in tokens_and_weights]);"
   ]
  },
  {
   "cell_type": "code",
   "execution_count": 33,
   "metadata": {},
   "outputs": [
    {
     "data": {
      "text/html": [
       "<p style=\"font-size:20px;\"><span style=\"background-color: #FFFEFE\">cleaning</span> <span style=\"background-color: #FFFEFE\">operative</span></p>"
      ]
     },
     "metadata": {},
     "output_type": "display_data"
    },
    {
     "data": {
      "text/html": [
       "<p style=\"font-size:14px;\"><span style=\"background-color: #FFEAEA\">12</span> <span style=\"background-color: #F6F6FF\">.</span> <span style=\"background-color: #F3F3FF\">5</span> <span style=\"background-color: #FFBEBE\">hours</span> <span style=\"background-color: #E8E8FF\">per</span> <span style=\"background-color: #FFEEEE\">week</span> <span style=\"background-color: #FCFCFF\">monday</span> <span style=\"background-color: #F2F2FF\">friday</span> <span style=\"background-color: #FFFEFE\">9am</span> <span style=\"background-color: #FFFCFC\">11</span> <span style=\"background-color: #FAFAFF\">.</span> <span style=\"background-color: #FFE2E2\">30am</span> <span style=\"background-color: #FFF2F2\">duties</span> <span style=\"background-color: #FCFCFF\">to</span> <span style=\"background-color: #FFF0F0\">include</span> <span style=\"background-color: #FFA6A6\">sweeping</span> <span style=\"background-color: #FFF0F0\">,</span> <span style=\"background-color: #FFECEC\">mopping</span> <span style=\"background-color: #FFC6C6\">,</span> <span style=\"background-color: #FFCACA\">vacuuming</span> <span style=\"background-color: #FFDCDC\">,</span> <span style=\"background-color: #FF8E8E\">buffing</span> <span style=\"background-color: #FFDEDE\">,</span> <span style=\"background-color: #FFE8E8\">cleaning</span> <span style=\"background-color: #FFE0E0\">staff</span> <span style=\"background-color: #FFDCDC\">toilets</span> <span style=\"background-color: #E8E8FF\">and</span> <span style=\"background-color: #FFDADA\">rest</span> <span style=\"background-color: #FFCCCC\">room</span> <span style=\"background-color: #DCDCFF\">.</span> <span style=\"background-color: #DCDCFF\">must</span> <span style=\"background-color: #FFD2D2\">be</span> <span style=\"background-color: #FFDADA\">able</span> <span style=\"background-color: #DEDEFF\">to</span> <span style=\"background-color: #FFB2B2\">read</span> <span style=\"background-color: #E6E6FF\">as</span> <span style=\"background-color: #FFF6F6\">they</span> <span style=\"background-color: #F8F8FF\">will</span> <span style=\"background-color: #FEFEFF\">be</span> <span style=\"background-color: #FEFEFF\">using</span> <span style=\"background-color: #FFFEFE\">UNK</span> <span style=\"background-color: #FFECEC\">which</span> <span style=\"background-color: #CECEFF\">need</span> <span style=\"background-color: #FFFEFE\">UNK</span> <span style=\"background-color: #FFE6E6\">as</span> <span style=\"background-color: #F6F6FF\">per</span> <span style=\"background-color: #FFA2A2\">instructions</span> <span style=\"background-color: #FFF8F8\">on</span> <span style=\"background-color: #FFF2F2\">the</span> <span style=\"background-color: #FFB8B8\">containers</span> <span style=\"background-color: #FFFEFE\">.</span> <span style=\"background-color: #FFD6D6\">sucessfull</span> <span style=\"background-color: #FFFCFC\">applicants</span> <span style=\"background-color: #F3F3FF\">will</span> <span style=\"background-color: #F8F8FF\">be</span> <span style=\"background-color: #FFECEC\">trained</span> <span style=\"background-color: #FEFEFF\">on</span> <span style=\"background-color: #FFFCFC\">all</span> <span style=\"background-color: #FFF6F6\">electrical</span> <span style=\"background-color: #FF5C5C\">appliances</span> <span style=\"background-color: #FFF4F4\">and</span> <span style=\"background-color: #FFFEFE\">UNK</span> <span style=\"background-color: #EAEAFF\">of</span> <span style=\"background-color: #FFCACA\">cleaning</span> <span style=\"background-color: #FFA6A6\">materials</span> <span style=\"background-color: #DADAFF\">.</span></p>"
      ]
     },
     "metadata": {},
     "output_type": "display_data"
    }
   ],
   "source": [
    "i = 12077\n",
    "tokens_and_weights = explain(model, data.loc[i], \"Title\")\n",
    "draw_html([(tok, weight * 5) for tok, weight in tokens_and_weights], font_style='font-size:20px;');\n",
    "\n",
    "tokens_and_weights = explain(model, data.loc[i], \"FullDescription\")\n",
    "draw_html([(tok, weight * 10) for tok, weight in tokens_and_weights]);"
   ]
  },
  {
   "cell_type": "code",
   "execution_count": 35,
   "metadata": {},
   "outputs": [
    {
     "name": "stdout",
     "output_type": "stream",
     "text": [
      "Index: 154574\n",
      "Salary (gbp): 786.52844\n"
     ]
    },
    {
     "data": {
      "text/html": [
       "<p style=\"font-size:20px;\"><span style=\"background-color: #FF1010\">residential</span> <span style=\"background-color: #FF2424\">commercial</span> <span style=\"background-color: #FF0E0E\">property</span> <span style=\"background-color: #FF0C0C\">solicitor</span></p>"
      ]
     },
     "metadata": {},
     "output_type": "display_data"
    },
    {
     "data": {
      "text/html": [
       "<p style=\"font-size:14px;\"><span style=\"background-color: #FFFEFE\">an</span> <span style=\"background-color: #FFF8F8\">exciting</span> <span style=\"background-color: #FFFEFE\">opportunity</span> <span style=\"background-color: #EAEAFF\">to</span> <span style=\"background-color: #FFECEC\">join</span> <span style=\"background-color: #F0F0FF\">a</span> <span style=\"background-color: #FFE2E2\">well</span> <span style=\"background-color: #D3D3FF\">established</span> <span style=\"background-color: #FFF6F6\">and</span> <span style=\"background-color: #BABAFF\">highly</span> <span style=\"background-color: #FFBEBE\">regarded</span> <span style=\"background-color: #E6E6FF\">practice</span> <span style=\"background-color: #FFFEFE\">UNK</span> <span style=\"background-color: #DEDEFF\">.</span> <span style=\"background-color: #FEFEFF\">you</span> <span style=\"background-color: #FFFCFC\">will</span> <span style=\"background-color: #FFEEEE\">handle</span> <span style=\"background-color: #D0D0FF\">a</span> <span style=\"background-color: #E2E2FF\">broad</span> <span style=\"background-color: #FFE2E2\">mix</span> <span style=\"background-color: #DCDCFF\">of</span> <span style=\"background-color: #FFFEFE\">work</span> <span style=\"background-color: #FFFEFE\">including</span> <span style=\"background-color: #FFFEFE\">but</span> <span style=\"background-color: #FFFEFE\">not</span> <span style=\"background-color: #FFFEFE\">limited</span> <span style=\"background-color: #FFFEFE\">to</span> <span style=\"background-color: #FFFEFE\">sales</span> <span style=\"background-color: #FFFEFE\">,</span> <span style=\"background-color: #FFFCFC\">purchases</span> <span style=\"background-color: #FEFEFF\">and</span> <span style=\"background-color: #FEFEFF\">letting</span> <span style=\"background-color: #FFFEFE\">of</span> <span style=\"background-color: #F8F8FF\">freehold</span> <span style=\"background-color: #FEFEFF\">and</span> <span style=\"background-color: #FFE8E8\">leasehold</span> <span style=\"background-color: #FAFAFF\">commercial</span> <span style=\"background-color: #FFFEFE\">property</span> <span style=\"background-color: #FFFEFE\">,</span> <span style=\"background-color: #FFFEFE\">secured</span> <span style=\"background-color: #FFE0E0\">lending</span> <span style=\"background-color: #FFD8D8\">requirements</span> <span style=\"background-color: #ECECFF\">,</span> <span style=\"background-color: #C3C3FF\">acquisition</span> <span style=\"background-color: #F3F3FF\">,</span> <span style=\"background-color: #FFD3D3\">development</span> <span style=\"background-color: #FFFAFA\">and</span> <span style=\"background-color: #F6F6FF\">management</span> <span style=\"background-color: #E3E3FF\">of</span> <span style=\"background-color: #FCFCFF\">commercial</span> <span style=\"background-color: #E6E6FF\">and</span> <span style=\"background-color: #FFFEFE\">residential</span> <span style=\"background-color: #FFFCFC\">sites</span> <span style=\"background-color: #FFFEFE\">and</span> <span style=\"background-color: #FFFEFE\">retail</span> <span style=\"background-color: #FFFCFC\">outlets</span> <span style=\"background-color: #FFFEFE\">.</span> <span style=\"background-color: #FFECEC\">the</span> <span style=\"background-color: #FFE4E4\">successful</span> <span style=\"background-color: #FCFCFF\">candidate</span> <span style=\"background-color: #ECECFF\">will</span> <span style=\"background-color: #FFFEFE\">be</span> <span style=\"background-color: #FFFCFC\">an</span> <span style=\"background-color: #FCFCFF\">accomplished</span> <span style=\"background-color: #F0F0FF\">fee</span> <span style=\"background-color: #FFDCDC\">earner</span> <span style=\"background-color: #FFF4F4\">,</span> <span style=\"background-color: #F8F8FF\">able</span> <span style=\"background-color: #EEEEFF\">to</span> <span style=\"background-color: #FFF6F6\">work</span> <span style=\"background-color: #FFFEFE\">with</span> <span style=\"background-color: #FFFEFE\">minimal</span> <span style=\"background-color: #FFFEFE\">supervision</span> <span style=\"background-color: #FAFAFF\">and</span> <span style=\"background-color: #F0F0FF\">with</span> <span style=\"background-color: #FCFCFF\">the</span> <span style=\"background-color: #FFF6F6\">ability</span> <span style=\"background-color: #FFFAFA\">to</span> <span style=\"background-color: #FAFAFF\">business</span> <span style=\"background-color: #FFEEEE\">develop</span> <span style=\"background-color: #FFFEFE\">.</span> <span style=\"background-color: #FCFCFF\">a</span> <span style=\"background-color: #FFEEEE\">small</span> <span style=\"background-color: #FCFCFF\">&</span> <span style=\"background-color: #FFE0E0\">friendly</span> <span style=\"background-color: #FCFCFF\">practice</span> <span style=\"background-color: #FFFEFE\">UNK</span> <span style=\"background-color: #FCFCFF\">a</span> <span style=\"background-color: #FFEAEA\">genuine</span> <span style=\"background-color: #FFFAFA\">work</span> <span style=\"background-color: #FFFEFE\">/</span> <span style=\"background-color: #FFFEFE\">life</span> <span style=\"background-color: #FEFEFF\">balance</span> <span style=\"background-color: #FFFEFE\">and</span> <span style=\"background-color: #FEFEFF\">partnership</span> <span style=\"background-color: #FEFEFF\">opportunities</span> <span style=\"background-color: #FFFEFE\">in</span> <span style=\"background-color: #FFFEFE\">the</span> <span style=\"background-color: #FEFEFF\">not</span> <span style=\"background-color: #FAFAFF\">too</span> <span style=\"background-color: #FCFCFF\">distant</span> <span style=\"background-color: #FFFEFE\">future</span> <span style=\"background-color: #FAFAFF\">.</span> <span style=\"background-color: #FFFEFE\">at</span> <span style=\"background-color: #FFFEFE\">law</span> <span style=\"background-color: #FFFEFE\">absolute</span> <span style=\"background-color: #FFF8F8\">we</span> <span style=\"background-color: #F8F8FF\">endeavour</span> <span style=\"background-color: #EAEAFF\">to</span> <span style=\"background-color: #FAFAFF\">respond</span> <span style=\"background-color: #FFECEC\">to</span> <span style=\"background-color: #FFFEFE\">all</span> <span style=\"background-color: #FFDADA\">applications</span> <span style=\"background-color: #FFFAFA\">within</span> <span style=\"background-color: #FFFCFC\">****</span> <span style=\"background-color: #FFFEFE\">hours</span> <span style=\"background-color: #FFFEFE\">.</span> <span style=\"background-color: #FFFAFA\">however</span> <span style=\"background-color: #FFFEFE\">due</span> <span style=\"background-color: #FFFEFE\">to</span> <span style=\"background-color: #FFFEFE\">the</span> <span style=\"background-color: #FFF6F6\">volume</span> <span style=\"background-color: #FAFAFF\">of</span> <span style=\"background-color: #FAFAFF\">applications</span> <span style=\"background-color: #FFFEFE\">we</span> <span style=\"background-color: #FFFEFE\">receive</span> <span style=\"background-color: #FEFEFF\">we</span> <span style=\"background-color: #FEFEFF\">may</span> <span style=\"background-color: #FEFEFF\">not</span> <span style=\"background-color: #FFFAFA\">be</span> <span style=\"background-color: #FFFCFC\">able</span> <span style=\"background-color: #FEFEFF\">to</span> <span style=\"background-color: #FEFEFF\">respond</span> <span style=\"background-color: #FAFAFF\">to</span> <span style=\"background-color: #FFFEFE\">every</span> <span style=\"background-color: #FFFEFE\">candidate</span> <span style=\"background-color: #FFFEFE\">individually</span> <span style=\"background-color: #F3F3FF\">.</span> <span style=\"background-color: #FFFCFC\">if</span> <span style=\"background-color: #FFF4F4\">you</span> <span style=\"background-color: #FFEEEE\">have</span> <span style=\"background-color: #FFF0F0\">not</span> <span style=\"background-color: #F8F8FF\">heard</span> <span style=\"background-color: #FFFEFE\">from</span> <span style=\"background-color: #FFF4F4\">us</span> <span style=\"background-color: #FFFEFE\">within</span> <span style=\"background-color: #FFFEFE\">a</span> <span style=\"background-color: #FFFEFE\">****</span> <span style=\"background-color: #FFF8F8\">hour</span> <span style=\"background-color: #FFFEFE\">timeframe</span> <span style=\"background-color: #FFFEFE\">your</span> <span style=\"background-color: #FEFEFF\">application</span> <span style=\"background-color: #FFFEFE\">has</span> <span style=\"background-color: #FFFEFE\">not</span> <span style=\"background-color: #FFFEFE\">been</span> <span style=\"background-color: #FCFCFF\">successful</span> <span style=\"background-color: #FCFCFF\">and</span> <span style=\"background-color: #F3F3FF\">your</span> <span style=\"background-color: #F8F8FF\">details</span> <span style=\"background-color: #EEEEFF\">have</span> <span style=\"background-color: #FFF8F8\">not</span> <span style=\"background-color: #FFFEFE\">been</span> <span style=\"background-color: #F6F6FF\">retained</span> <span style=\"background-color: #F6F6FF\">.</span> <span style=\"background-color: #FFFEFE\">law</span> <span style=\"background-color: #FFF6F6\">absolute</span> <span style=\"background-color: #FFFEFE\">acts</span> <span style=\"background-color: #FCFCFF\">as</span> <span style=\"background-color: #F6F6FF\">an</span> <span style=\"background-color: #FFFCFC\">employment</span> <span style=\"background-color: #F6F6FF\">business</span> <span style=\"background-color: #FFFEFE\">for</span> <span style=\"background-color: #FFFEFE\">temporary</span> <span style=\"background-color: #FFFEFE\">recruitment</span> <span style=\"background-color: #FFFEFE\">and</span> <span style=\"background-color: #FEFEFF\">as</span> <span style=\"background-color: #F8F8FF\">an</span> <span style=\"background-color: #F8F8FF\">employment</span> <span style=\"background-color: #EEEEFF\">agency</span> <span style=\"background-color: #F6F6FF\">for</span> <span style=\"background-color: #FFF6F6\">fixed</span> <span style=\"background-color: #FFF6F6\">term</span> <span style=\"background-color: #FFFCFC\">contract</span> <span style=\"background-color: #FFF2F2\">and</span> <span style=\"background-color: #FFFCFC\">permanent</span> <span style=\"background-color: #FFDADA\">recruitment</span> <span style=\"background-color: #FFFEFE\">.</span></p>"
      ]
     },
     "metadata": {},
     "output_type": "display_data"
    }
   ],
   "source": [
    "i = np.random.randint(len(data))\n",
    "print(\"Index:\", i)\n",
    "print(\"Salary (gbp):\", np.expm1(model.predict(make_batch(data.iloc[i: i+1]))[0, 0]))\n",
    "\n",
    "tokens_and_weights = explain(model, data.loc[i], \"Title\")\n",
    "draw_html([(tok, weight * 5) for tok, weight in tokens_and_weights], font_style='font-size:20px;');\n",
    "\n",
    "tokens_and_weights = explain(model, data.loc[i], \"FullDescription\")\n",
    "draw_html([(tok, weight * 10) for tok, weight in tokens_and_weights]);"
   ]
  },
  {
   "cell_type": "markdown",
   "metadata": {},
   "source": [
    "__Terrible start-up idea #1962:__ make a tool that automaticaly rephrases your job description (or CV) to meet salary expectations :)"
   ]
  }
 ],
 "metadata": {
  "kernelspec": {
   "display_name": "Python 3",
   "language": "python",
   "name": "python3"
  },
  "language_info": {
   "codemirror_mode": {
    "name": "ipython",
    "version": 3
   },
   "file_extension": ".py",
   "mimetype": "text/x-python",
   "name": "python",
   "nbconvert_exporter": "python",
   "pygments_lexer": "ipython3",
   "version": "3.5.2"
  }
 },
 "nbformat": 4,
 "nbformat_minor": 2
}
